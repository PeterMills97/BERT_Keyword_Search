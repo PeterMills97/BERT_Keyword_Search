{
 "cells": [
  {
   "cell_type": "markdown",
   "id": "cf624e7a-a5f7-42be-9655-c4608ae633c0",
   "metadata": {},
   "source": [
    "# Data Processing"
   ]
  },
  {
   "cell_type": "markdown",
   "id": "e214acbe-fe24-42ee-809d-3b048e24a228",
   "metadata": {},
   "source": [
    "Starting with the BeautifulSoup objects for each page we are going to extract the following features: \n",
    "\n",
    "1) The date published \n",
    "2) The headline of the article\n",
    "3) The description\n",
    "4) The main body of the review\n",
    "5) User comments\n",
    "\n",
    "Each feature will have it's own section in the notebook including a function to extract it and steps taken for quality control. "
   ]
  },
  {
   "cell_type": "code",
   "execution_count": 1,
   "id": "d5544e22-9d1a-4b18-9443-1cb57ece6c98",
   "metadata": {},
   "outputs": [],
   "source": [
    "import numpy as np\n",
    "import pandas as pd\n",
    "from bs4 import BeautifulSoup \n",
    "from datetime import datetime\n",
    "import matplotlib.pyplot as plt"
   ]
  },
  {
   "cell_type": "code",
   "execution_count": 2,
   "id": "565b57ee-82c3-4501-94ba-efccfab14f83",
   "metadata": {},
   "outputs": [],
   "source": [
    "review_data=pd.read_csv('Running_dataset')\n",
    "review_data['page']=review_data['page'].apply(lambda x: BeautifulSoup(x, 'html.parser'))"
   ]
  },
  {
   "cell_type": "code",
   "execution_count": 3,
   "id": "e4e7089d-9bec-4579-8ee3-5fbb70a98788",
   "metadata": {},
   "outputs": [
    {
     "name": "stdout",
     "output_type": "stream",
     "text": [
      "<class 'pandas.core.frame.DataFrame'>\n",
      "RangeIndex: 1163 entries, 0 to 1162\n",
      "Data columns (total 2 columns):\n",
      " #   Column  Non-Null Count  Dtype \n",
      "---  ------  --------------  ----- \n",
      " 0   link    1163 non-null   object\n",
      " 1   page    1163 non-null   object\n",
      "dtypes: object(2)\n",
      "memory usage: 18.3+ KB\n"
     ]
    }
   ],
   "source": [
    "review_data.info()"
   ]
  },
  {
   "cell_type": "markdown",
   "id": "3f083276-c3cf-4e83-809d-a436e7e2c7a1",
   "metadata": {},
   "source": [
    "## Section 1: Date"
   ]
  },
  {
   "cell_type": "code",
   "execution_count": 4,
   "id": "a2627fa5-8659-4db5-bf75-4747b74b08b0",
   "metadata": {},
   "outputs": [],
   "source": [
    "def get_date(page):\n",
    "    try: \n",
    "        date=page.find(itemprop=\"datePublished\")['content']\n",
    "    except:\n",
    "        date='No tag found'\n",
    "    return date"
   ]
  },
  {
   "cell_type": "markdown",
   "id": "21e6e38a-9ece-40f5-806d-54da9f97af40",
   "metadata": {},
   "source": [
    "Now we need to search for missing date values using the 'no tag found' string included in the above function "
   ]
  },
  {
   "cell_type": "markdown",
   "id": "6b1fc866",
   "metadata": {},
   "source": [
    "## Test 1"
   ]
  },
  {
   "cell_type": "code",
   "execution_count": 5,
   "id": "3d6887e2",
   "metadata": {},
   "outputs": [
    {
     "name": "stdout",
     "output_type": "stream",
     "text": [
      "<class 'pandas.core.series.Series'>\n",
      "RangeIndex: 1163 entries, 0 to 1162\n",
      "Series name: page\n",
      "Non-Null Count  Dtype \n",
      "--------------  ----- \n",
      "1163 non-null   object\n",
      "dtypes: object(1)\n",
      "memory usage: 9.2+ KB\n"
     ]
    }
   ],
   "source": [
    "#check for null values\n",
    "review_data['page'].apply(lambda page:get_date(page)).info()"
   ]
  },
  {
   "cell_type": "code",
   "execution_count": 6,
   "id": "cc4c17d0-578c-4fc6-9e92-def7762a4b27",
   "metadata": {},
   "outputs": [
    {
     "name": "stdout",
     "output_type": "stream",
     "text": [
      "<class 'pandas.core.frame.DataFrame'>\n",
      "Int64Index: 1 entries, 760 to 760\n",
      "Data columns (total 2 columns):\n",
      " #   Column  Non-Null Count  Dtype \n",
      "---  ------  --------------  ----- \n",
      " 0   link    1 non-null      object\n",
      " 1   page    1 non-null      object\n",
      "dtypes: object(2)\n",
      "memory usage: 24.0+ bytes\n",
      "None\n"
     ]
    }
   ],
   "source": [
    "#check for no date found\n",
    "No_date=review_data[review_data['page'].apply(lambda page:get_date(page))=='No tag found']\n",
    "print(No_date.info())"
   ]
  },
  {
   "cell_type": "code",
   "execution_count": 7,
   "id": "b665aaa9-4a27-469f-ab03-6e30294f9fe1",
   "metadata": {},
   "outputs": [
    {
     "data": {
      "text/plain": [
       "'https://www.runningshoesguru.com/2016/09/pearl-izumi-trail-n2v3-review/'"
      ]
     },
     "execution_count": 7,
     "metadata": {},
     "output_type": "execute_result"
    }
   ],
   "source": [
    "#as there is only one item let's check it's link \n",
    "No_date['link'].iloc[0]"
   ]
  },
  {
   "cell_type": "markdown",
   "id": "85c46589-2e85-47bb-92be-df87a39ebdfc",
   "metadata": {},
   "source": [
    "Inspecting the only page that is missing a date we see that it's just blank apart from a title. On the basis this is not valuable for our dataset, let's exclude it"
   ]
  },
  {
   "cell_type": "code",
   "execution_count": 8,
   "id": "af8c93d6-5779-4e0d-826e-70c226b72a34",
   "metadata": {},
   "outputs": [],
   "source": [
    "#remove this link\n",
    "review_data=review_data[review_data['link']!=No_date['link'].iloc[0]]"
   ]
  },
  {
   "cell_type": "markdown",
   "id": "1f74f6f6",
   "metadata": {},
   "source": [
    "## Add date column"
   ]
  },
  {
   "cell_type": "code",
   "execution_count": 9,
   "id": "a745602c-bc54-4ea8-9e85-9a0ef3a20d86",
   "metadata": {},
   "outputs": [],
   "source": [
    "#add date column\n",
    "review_data['date']=review_data['page'].apply(lambda page:get_date(page))"
   ]
  },
  {
   "cell_type": "markdown",
   "id": "c1bcc054-65cd-4370-b8f3-d44dc7f1c2c7",
   "metadata": {},
   "source": [
    "After adding this column, we want to check all have valid dates a plausible range, to do this let's try to convert the column to date time and plot the results by year. "
   ]
  },
  {
   "cell_type": "code",
   "execution_count": 10,
   "id": "a0ab060f-156f-42c8-a148-69ae54e8b6bc",
   "metadata": {},
   "outputs": [
    {
     "data": {
      "text/plain": [
       "<BarContainer object of 13 artists>"
      ]
     },
     "execution_count": 10,
     "metadata": {},
     "output_type": "execute_result"
    },
    {
     "data": {
      "image/png": "[encoded data removed]",
      "text/plain": [
       "<Figure size 640x480 with 1 Axes>"
      ]
     },
     "metadata": {},
     "output_type": "display_data"
    }
   ],
   "source": [
    "year_counts=pd.to_datetime(review_data['date']).apply(lambda x : x.year)\n",
    "years=year_counts.value_counts().sort_index().index\n",
    "counts=year_counts.value_counts().sort_index().values\n",
    "\n",
    "plt.figure()\n",
    "plt.bar(years,counts)\n",
    "\n"
   ]
  },
  {
   "cell_type": "markdown",
   "id": "096d28a8-ed14-4bb1-b100-f99ece09ab73",
   "metadata": {},
   "source": [
    "This looks fine. As this is a personal project, I'm looking to show what could be possible with this dataset while not taking traffic from the original site. To ensure the copyright of the website is protected, I decided to exclude all reviews from the last 2 years (from October 2023). As running shoe models change frequently, this will mean that any tools I build with this data will not directly compete with the site on providing up to date information. "
   ]
  },
  {
   "cell_type": "code",
   "execution_count": 11,
   "id": "a49b53ee-b8fa-4bfd-b8a7-a5848050d170",
   "metadata": {},
   "outputs": [],
   "source": [
    "review_data=review_data[pd.to_datetime(review_data['date'])<datetime(2021,10,1).astimezone()]"
   ]
  },
  {
   "cell_type": "markdown",
   "id": "4fedf8af-dfea-4d16-a588-1ed2c547e897",
   "metadata": {},
   "source": [
    "## Section 2: Headline"
   ]
  },
  {
   "cell_type": "code",
   "execution_count": 12,
   "id": "c320f243-61a6-44ee-8ac1-21b16fcd2d1b",
   "metadata": {},
   "outputs": [],
   "source": [
    "def get_headline(page):\n",
    "    try: \n",
    "        date=page.find(itemprop=\"name\")['content']\n",
    "    except:\n",
    "        date='No tag found'\n",
    "    return date"
   ]
  },
  {
   "cell_type": "markdown",
   "id": "8f55d1c0",
   "metadata": {},
   "source": [
    "## Test 2"
   ]
  },
  {
   "cell_type": "markdown",
   "id": "71d33a6c-932d-4b1a-a3f6-f815b9524e57",
   "metadata": {},
   "source": [
    "First we should check for pages where get_headline returns no headline "
   ]
  },
  {
   "cell_type": "code",
   "execution_count": 13,
   "id": "4410be5f",
   "metadata": {},
   "outputs": [
    {
     "name": "stdout",
     "output_type": "stream",
     "text": [
      "<class 'pandas.core.series.Series'>\n",
      "Int64Index: 898 entries, 0 to 1162\n",
      "Series name: page\n",
      "Non-Null Count  Dtype \n",
      "--------------  ----- \n",
      "898 non-null    object\n",
      "dtypes: object(1)\n",
      "memory usage: 14.0+ KB\n"
     ]
    }
   ],
   "source": [
    "#check for null values\n",
    "review_data['page'].apply(lambda x: get_headline(x)).info()"
   ]
  },
  {
   "cell_type": "code",
   "execution_count": 14,
   "id": "f62c35dd-6e2e-4d7a-aec3-7bdb2a2a8ac0",
   "metadata": {},
   "outputs": [
    {
     "name": "stdout",
     "output_type": "stream",
     "text": [
      "pages without a headline = 0\n"
     ]
    }
   ],
   "source": [
    "#check for no headline found\n",
    "no_headline=review_data[review_data['page'].apply(lambda x: get_headline(x))=='No tag found']\n",
    "print('pages without a headline =',np.shape(no_headline)[0])"
   ]
  },
  {
   "cell_type": "markdown",
   "id": "2b6ca08d-6e68-46f9-b51d-ea3fe11875a8",
   "metadata": {},
   "source": [
    "Great, now we have seen every page has a headline, let's check for repeats "
   ]
  },
  {
   "cell_type": "code",
   "execution_count": 15,
   "id": "df16af9c-cd64-43b2-aeef-ee7a5d055165",
   "metadata": {
    "scrolled": true
   },
   "outputs": [
    {
     "data": {
      "text/plain": [
       "Adidas Energy Boost           3\n",
       "Hoka One One Speedgoat 2      2\n",
       "Hoka One One Stinson ATR 4    1\n",
       "Puma Faas 800                 1\n",
       "New Balance 1260              1\n",
       "                             ..\n",
       "Nike Epic React Flyknit 2     1\n",
       "Brooks Transcend 4            1\n",
       "Asics GlideRide 2             1\n",
       "Asics Gel Contend 4           1\n",
       "Nike Air Zoom Pegasus 34      1\n",
       "Name: page, Length: 895, dtype: int64"
      ]
     },
     "execution_count": 15,
     "metadata": {},
     "output_type": "execute_result"
    }
   ],
   "source": [
    "review_data['page'].apply(lambda x: get_headline(x)).value_counts()"
   ]
  },
  {
   "cell_type": "markdown",
   "id": "9d18cf37-9356-4405-94a4-25937f455159",
   "metadata": {},
   "source": [
    "We have repeats for 2 headlines, let's check Adidas first "
   ]
  },
  {
   "cell_type": "code",
   "execution_count": 16,
   "id": "5a2d5e15-74dd-4e71-a6ed-ae55d2e7d7e1",
   "metadata": {},
   "outputs": [
    {
     "name": "stdout",
     "output_type": "stream",
     "text": [
      "https://www.runningshoesguru.com/2017/07/adidas-energy-boost-2017-review/\n",
      "https://www.runningshoesguru.com/2013/11/adidas-energy-boost-review-2/\n",
      "https://www.runningshoesguru.com/2013/02/adidas-energy-boost-review/\n"
     ]
    }
   ],
   "source": [
    "#find repeated headlines\n",
    "duplicate_Adidas=review_data[review_data['page'].apply(lambda x: get_headline(x))=='Adidas Energy Boost']\n",
    "print(duplicate_Adidas['link'].iloc[0])\n",
    "print(duplicate_Adidas['link'].iloc[1])\n",
    "print(duplicate_Adidas['link'].iloc[2])"
   ]
  },
  {
   "cell_type": "markdown",
   "id": "9a8c7fa2-9efc-4574-8a1c-8fbd64f92a92",
   "metadata": {},
   "source": [
    "Checking these page links we can see that there is one pair of duplicates and one later and distinct review. now check Hoka"
   ]
  },
  {
   "cell_type": "code",
   "execution_count": 17,
   "id": "13dad957-f836-42a3-85cb-db0d8ab4adc6",
   "metadata": {},
   "outputs": [
    {
     "name": "stdout",
     "output_type": "stream",
     "text": [
      "https://www.runningshoesguru.com/2017/09/hoka-one-one-speedgoat-2-review/\n",
      "https://www.runningshoesguru.com/review/hoka-one-one-speedgoat-2/\n"
     ]
    }
   ],
   "source": [
    "duplicate_Hoka=review_data[review_data['page'].apply(lambda x: get_headline(x))=='Hoka One One Speedgoat 2']\n",
    "print(duplicate_Hoka['link'].iloc[0])\n",
    "print(duplicate_Hoka['link'].iloc[1])"
   ]
  },
  {
   "cell_type": "markdown",
   "id": "ae71a290-894f-4f52-bcea-be838066b32f",
   "metadata": {},
   "source": [
    "This one is a straightforward duplicate. Let's remove the duplicated pages from the data "
   ]
  },
  {
   "cell_type": "code",
   "execution_count": 18,
   "id": "5b142f29-fd06-4688-b2ad-90bd67e85420",
   "metadata": {},
   "outputs": [
    {
     "name": "stdout",
     "output_type": "stream",
     "text": [
      "<class 'pandas.core.frame.DataFrame'>\n",
      "Int64Index: 896 entries, 0 to 1162\n",
      "Data columns (total 3 columns):\n",
      " #   Column  Non-Null Count  Dtype \n",
      "---  ------  --------------  ----- \n",
      " 0   link    896 non-null    object\n",
      " 1   page    896 non-null    object\n",
      " 2   date    896 non-null    object\n",
      "dtypes: object(3)\n",
      "memory usage: 28.0+ KB\n"
     ]
    }
   ],
   "source": [
    "#drop the duplictates\n",
    "review_data=review_data[review_data['link']!=duplicate_Adidas['link'].iloc[1]]\n",
    "review_data=review_data[review_data['link']!=duplicate_Hoka['link'].iloc[1]]\n",
    "review_data.info()"
   ]
  },
  {
   "cell_type": "markdown",
   "id": "7f84cc93",
   "metadata": {},
   "source": [
    "## Add headline column"
   ]
  },
  {
   "cell_type": "code",
   "execution_count": 19,
   "id": "08fd29ad-775a-4324-acac-8f29180e5560",
   "metadata": {},
   "outputs": [],
   "source": [
    "review_data['headline']=review_data['page'].apply(lambda x: get_headline(x))"
   ]
  },
  {
   "cell_type": "markdown",
   "id": "7d6fc0a0-efe7-4ba9-a33b-9da55c475c80",
   "metadata": {},
   "source": [
    "## Section 3: Description"
   ]
  },
  {
   "cell_type": "code",
   "execution_count": 20,
   "id": "fe544800-09ff-4f40-a993-2df7292f4f10",
   "metadata": {},
   "outputs": [],
   "source": [
    "def get_description(page):\n",
    "    try: #check for content attribute \n",
    "        description=page.find(itemprop=\"description\")['content']\n",
    "    except: \n",
    "        try: #otherwise look for text\n",
    "            description=page.find(itemprop=\"description\").text\n",
    "        except: \n",
    "            description='no description found'\n",
    "    return description\n",
    "    "
   ]
  },
  {
   "cell_type": "markdown",
   "id": "8bfb9a8f",
   "metadata": {},
   "source": [
    "## Test 3"
   ]
  },
  {
   "cell_type": "code",
   "execution_count": 21,
   "id": "bd6304ca-7cf1-4fb8-9ab5-9be7930e3a27",
   "metadata": {},
   "outputs": [
    {
     "name": "stdout",
     "output_type": "stream",
     "text": [
      "<class 'pandas.core.series.Series'>\n",
      "Int64Index: 896 entries, 0 to 1162\n",
      "Series name: page\n",
      "Non-Null Count  Dtype \n",
      "--------------  ----- \n",
      "896 non-null    object\n",
      "dtypes: object(1)\n",
      "memory usage: 14.0+ KB\n"
     ]
    }
   ],
   "source": [
    "#check null values\n",
    "review_data['page'].apply(lambda x: get_description(x)).info()"
   ]
  },
  {
   "cell_type": "code",
   "execution_count": 22,
   "id": "66d2e95e-e373-4609-b41d-d25a004f811b",
   "metadata": {},
   "outputs": [
    {
     "name": "stdout",
     "output_type": "stream",
     "text": [
      "Number of pages with no description tag = 0\n"
     ]
    }
   ],
   "source": [
    "#check for pages with no description tag\n",
    "no_description=review_data[review_data['page'].apply(lambda x: get_description(x))=='no description found']\n",
    "print('Number of pages with no description tag =',np.shape(no_description)[0])"
   ]
  },
  {
   "cell_type": "code",
   "execution_count": 23,
   "id": "5477646c-885e-4e54-b2cc-3f3e874e02a9",
   "metadata": {},
   "outputs": [
    {
     "data": {
      "text/plain": [
       "495        0\n",
       "1095      24\n",
       "785       30\n",
       "684       35\n",
       "443       43\n",
       "        ... \n",
       "391      921\n",
       "1098     925\n",
       "432      926\n",
       "533      964\n",
       "689     1098\n",
       "Name: page, Length: 896, dtype: int64"
      ]
     },
     "execution_count": 23,
     "metadata": {},
     "output_type": "execute_result"
    }
   ],
   "source": [
    "#check for pages with zero length description\n",
    "review_data['page'].apply(lambda x: get_description(x)).apply(lambda x: len(x)).sort_values()"
   ]
  },
  {
   "cell_type": "markdown",
   "id": "db4fe5a2-0d2a-4e91-ba79-fff61ff51695",
   "metadata": {},
   "source": [
    "Although all pages have a tagged item called description, we can see that a single page is missing it's description as it has length 0"
   ]
  },
  {
   "cell_type": "code",
   "execution_count": 24,
   "id": "31a2ce75-93a9-4640-9e3f-ee31018eeffb",
   "metadata": {},
   "outputs": [
    {
     "data": {
      "text/plain": [
       "link        https://www.runningshoesguru.com/2014/01/newto...\n",
       "page        [b', html,  \\n, [ \\n, [\\n, <link as=\"style\" hr...\n",
       "date                                2014-01-18T08:55:15-05:00\n",
       "headline                                Newton Distance Elite\n",
       "Name: 966, dtype: object"
      ]
     },
     "execution_count": 24,
     "metadata": {},
     "output_type": "execute_result"
    }
   ],
   "source": [
    "review_data.loc[966] #actually missing description"
   ]
  },
  {
   "cell_type": "markdown",
   "id": "577a739c-f4bf-45de-84f1-799f069f7ad0",
   "metadata": {},
   "source": [
    "Reviewing the page itself we see that it is missing description so let's drop it from the dataset "
   ]
  },
  {
   "cell_type": "code",
   "execution_count": 25,
   "id": "c5b50267-45fd-4312-ad31-89cff0762056",
   "metadata": {},
   "outputs": [],
   "source": [
    "review_data.drop(index=966, inplace=True)"
   ]
  },
  {
   "cell_type": "markdown",
   "id": "e774da21",
   "metadata": {},
   "source": [
    "## Add description column "
   ]
  },
  {
   "cell_type": "code",
   "execution_count": 26,
   "id": "228a1629-4b21-42d7-b9c3-3d7f5672a143",
   "metadata": {},
   "outputs": [],
   "source": [
    "review_data['description']=review_data['page'].apply(lambda x: get_description(x))"
   ]
  },
  {
   "cell_type": "markdown",
   "id": "ec3eb152-51f0-4fd2-ab9b-9fa0f90082cd",
   "metadata": {},
   "source": [
    "## Section 4: Review body"
   ]
  },
  {
   "cell_type": "code",
   "execution_count": 27,
   "id": "3e15af29-f8f9-49bb-8c97-83ba1286446f",
   "metadata": {},
   "outputs": [],
   "source": [
    "def get_review_body(page):\n",
    "    try: \n",
    "        review_body=page.find(id=\"review-body-content\").text\n",
    "    except: \n",
    "        review_body='no review body found'\n",
    "    return review_body"
   ]
  },
  {
   "cell_type": "markdown",
   "id": "3a78534e",
   "metadata": {},
   "source": [
    "## Test 4"
   ]
  },
  {
   "cell_type": "code",
   "execution_count": 28,
   "id": "65a2b808",
   "metadata": {},
   "outputs": [
    {
     "name": "stdout",
     "output_type": "stream",
     "text": [
      "<class 'pandas.core.series.Series'>\n",
      "Int64Index: 895 entries, 0 to 1162\n",
      "Series name: page\n",
      "Non-Null Count  Dtype \n",
      "--------------  ----- \n",
      "895 non-null    object\n",
      "dtypes: object(1)\n",
      "memory usage: 14.0+ KB\n"
     ]
    }
   ],
   "source": [
    "#check null values\n",
    "review_data['page'].apply(lambda x: get_review_body(x)).info()"
   ]
  },
  {
   "cell_type": "code",
   "execution_count": 29,
   "id": "cfb28e2c-42c9-4ee8-8327-a11742aa903b",
   "metadata": {},
   "outputs": [
    {
     "name": "stdout",
     "output_type": "stream",
     "text": [
      "number of pages with no review = 53\n"
     ]
    }
   ],
   "source": [
    "# check for pages with no review section\n",
    "no_review_body=review_data[review_data['page'].apply(lambda x: get_review_body(x))=='no review body found']\n",
    "print('number of pages with no review =',np.shape(no_review_body)[0])"
   ]
  },
  {
   "cell_type": "code",
   "execution_count": 30,
   "id": "070d0089",
   "metadata": {},
   "outputs": [
    {
     "data": {
      "text/plain": [
       "23     https://www.runningshoesguru.com/review/new-ba...\n",
       "78     https://www.runningshoesguru.com/review/salomo...\n",
       "81     https://www.runningshoesguru.com/review/saucon...\n",
       "83     https://www.runningshoesguru.com/review/nike-z...\n",
       "103    https://www.runningshoesguru.com/review/nike-w...\n",
       "Name: link, dtype: object"
      ]
     },
     "execution_count": 30,
     "metadata": {},
     "output_type": "execute_result"
    }
   ],
   "source": [
    "#print the links for these pages\n",
    "no_review_body['link'].head(5)"
   ]
  },
  {
   "cell_type": "markdown",
   "id": "ec768b02-a48c-4903-adf7-6e2fbe1ffc98",
   "metadata": {},
   "source": [
    "When we explore what these reviews look like, we can see they have a different format to the main type we have collected, on this basis I've decided to exclude them "
   ]
  },
  {
   "cell_type": "code",
   "execution_count": 31,
   "id": "8cec405d-54c6-4ca4-bbc5-e6e7be6607ee",
   "metadata": {},
   "outputs": [],
   "source": [
    "#remove pages with no review body \n",
    "review_data=review_data[review_data['page'].apply(lambda x: get_review_body(x))!='no review body found']"
   ]
  },
  {
   "cell_type": "code",
   "execution_count": 32,
   "id": "28f13d5a-4cff-4c22-988b-2c0aea198a35",
   "metadata": {},
   "outputs": [
    {
     "name": "stdout",
     "output_type": "stream",
     "text": [
      "<class 'pandas.core.frame.DataFrame'>\n",
      "Int64Index: 842 entries, 0 to 1162\n",
      "Data columns (total 5 columns):\n",
      " #   Column       Non-Null Count  Dtype \n",
      "---  ------       --------------  ----- \n",
      " 0   link         842 non-null    object\n",
      " 1   page         842 non-null    object\n",
      " 2   date         842 non-null    object\n",
      " 3   headline     842 non-null    object\n",
      " 4   description  842 non-null    object\n",
      "dtypes: object(5)\n",
      "memory usage: 39.5+ KB\n"
     ]
    }
   ],
   "source": [
    "review_data.info()"
   ]
  },
  {
   "cell_type": "code",
   "execution_count": 33,
   "id": "875535ab-d2cb-440e-8b60-d25c87a03288",
   "metadata": {},
   "outputs": [
    {
     "name": "stdout",
     "output_type": "stream",
     "text": [
      "min review length (characters) = 1486\n",
      "max review length (characters) = 15008\n"
     ]
    }
   ],
   "source": [
    "#check character length \n",
    "print('min review length (characters) =',review_data['page'].apply(lambda x: get_review_body(x)).apply(lambda x: len(x)).min())\n",
    "print('max review length (characters) =',review_data['page'].apply(lambda x: get_review_body(x)).apply(lambda x: len(x)).max())"
   ]
  },
  {
   "cell_type": "markdown",
   "id": "b798b9b1",
   "metadata": {},
   "source": [
    "## Add review body column"
   ]
  },
  {
   "cell_type": "code",
   "execution_count": 34,
   "id": "41270a7f-4c12-4aa7-9b5c-0ed988fffe81",
   "metadata": {},
   "outputs": [],
   "source": [
    "review_data['review_body']=review_data['page'].apply(lambda x: get_review_body(x))"
   ]
  },
  {
   "cell_type": "markdown",
   "id": "5658dbf8-a979-42fb-9a8a-d3b4a7ae0483",
   "metadata": {},
   "source": [
    "## Section 5: Customer reviews"
   ]
  },
  {
   "cell_type": "code",
   "execution_count": 35,
   "id": "78c893cb-e738-45c3-883b-68f3a5448379",
   "metadata": {},
   "outputs": [],
   "source": [
    "#note we don't need try statments for this function as if no tags are found then the loops will not run over the empty lists \n",
    "def get_comments(page):\n",
    "    \n",
    "    comment_list=[]\n",
    "    \n",
    "    for comment in page.find_all(class_=\"comment-body\"):\n",
    "        comment_paras=comment.find_all('p')\n",
    "        comment_text=''\n",
    "    \n",
    "        for para in comment_paras:\n",
    "            comment_text+=para.text\n",
    "        \n",
    "        comment_list.append(comment_text)\n",
    "\n",
    "    return comment_list\n",
    "\n"
   ]
  },
  {
   "cell_type": "markdown",
   "id": "eb2b2669",
   "metadata": {},
   "source": [
    "## Test 5"
   ]
  },
  {
   "cell_type": "code",
   "execution_count": 36,
   "id": "347f8ac5",
   "metadata": {},
   "outputs": [
    {
     "name": "stdout",
     "output_type": "stream",
     "text": [
      "<class 'pandas.core.series.Series'>\n",
      "Int64Index: 842 entries, 0 to 1162\n",
      "Series name: page\n",
      "Non-Null Count  Dtype \n",
      "--------------  ----- \n",
      "842 non-null    object\n",
      "dtypes: object(1)\n",
      "memory usage: 13.2+ KB\n"
     ]
    }
   ],
   "source": [
    "#check null values\n",
    "review_data['page'].apply(lambda x: get_comments(x)).info()"
   ]
  },
  {
   "cell_type": "code",
   "execution_count": 37,
   "id": "1575cc5c-f990-4ae6-a496-222388a0b875",
   "metadata": {},
   "outputs": [
    {
     "name": "stdout",
     "output_type": "stream",
     "text": [
      "pages with no reviews = 100\n"
     ]
    }
   ],
   "source": [
    "#check for values with no comments \n",
    "no_comments=review_data[review_data['page'].apply(lambda x: len(get_comments(x)))==0]\n",
    "print('pages with no reviews =',np.shape(no_comments)[0])"
   ]
  },
  {
   "cell_type": "code",
   "execution_count": 38,
   "id": "c6f57c74",
   "metadata": {},
   "outputs": [
    {
     "data": {
      "text/plain": [
       "33    https://www.runningshoesguru.com/2019/04/hoka-...\n",
       "35    https://www.runningshoesguru.com/2013/05/new-b...\n",
       "46    https://www.runningshoesguru.com/2015/09/icebu...\n",
       "48    https://www.runningshoesguru.com/2016/10/new-b...\n",
       "52    https://www.runningshoesguru.com/2016/06/the-n...\n",
       "Name: link, dtype: object"
      ]
     },
     "execution_count": 38,
     "metadata": {},
     "output_type": "execute_result"
    }
   ],
   "source": [
    "no_comments['link'].head(5)"
   ]
  },
  {
   "cell_type": "markdown",
   "id": "499707d1-20d6-4d99-aeb5-0eb860b2d7de",
   "metadata": {},
   "source": [
    "As some pages do not have any user comments, I decided not to exclude these although this should be noted when using the dataset "
   ]
  },
  {
   "cell_type": "markdown",
   "id": "6691347e",
   "metadata": {},
   "source": [
    "## Add user comments "
   ]
  },
  {
   "cell_type": "code",
   "execution_count": 39,
   "id": "cbb214d4-935a-48d3-b0af-e54ef6b7fdc7",
   "metadata": {},
   "outputs": [],
   "source": [
    "review_data['comments']=review_data['page'].apply(lambda x: get_comments(x))"
   ]
  },
  {
   "cell_type": "markdown",
   "id": "3442c645-4986-42c3-ba01-52fa6ba7fe6f",
   "metadata": {},
   "source": [
    "## Reset index and save "
   ]
  },
  {
   "cell_type": "markdown",
   "id": "346ef54d-246e-4ce0-bca3-4339fc5460c6",
   "metadata": {},
   "source": [
    "After removing multiple sets of missing or null values, the index in our data needs to be reset before saving "
   ]
  },
  {
   "cell_type": "code",
   "execution_count": 40,
   "id": "2c792de7",
   "metadata": {},
   "outputs": [
    {
     "data": {
      "text/html": [
       "<div>\n",
       "<style scoped>\n",
       "    .dataframe tbody tr th:only-of-type {\n",
       "        vertical-align: middle;\n",
       "    }\n",
       "\n",
       "    .dataframe tbody tr th {\n",
       "        vertical-align: top;\n",
       "    }\n",
       "\n",
       "    .dataframe thead th {\n",
       "        text-align: right;\n",
       "    }\n",
       "</style>\n",
       "<table border=\"1\" class=\"dataframe\">\n",
       "  <thead>\n",
       "    <tr style=\"text-align: right;\">\n",
       "      <th></th>\n",
       "      <th>link</th>\n",
       "      <th>page</th>\n",
       "      <th>date</th>\n",
       "      <th>headline</th>\n",
       "      <th>description</th>\n",
       "      <th>review_body</th>\n",
       "      <th>comments</th>\n",
       "    </tr>\n",
       "  </thead>\n",
       "  <tbody>\n",
       "    <tr>\n",
       "      <th>0</th>\n",
       "      <td>https://www.runningshoesguru.com/2017/09/hoka-...</td>\n",
       "      <td>[b', html,  \\n, [ \\n, [\\n, &lt;link as=\"style\" hr...</td>\n",
       "      <td>2017-09-28T09:49:35-04:00</td>\n",
       "      <td>Hoka One One Stinson ATR 4</td>\n",
       "      <td>The Stinson ATR 4 is built for long days on th...</td>\n",
       "      <td>The Stinson ATR 4 is the newest version of th...</td>\n",
       "      <td>[The bondi 5’s are like boards now-so stiff an...</td>\n",
       "    </tr>\n",
       "    <tr>\n",
       "      <th>1</th>\n",
       "      <td>https://www.runningshoesguru.com/2015/08/nike-...</td>\n",
       "      <td>[b', html,  \\n, [ \\n, [\\n, &lt;link as=\"style\" hr...</td>\n",
       "      <td>2017-11-25T13:13:48-05:00</td>\n",
       "      <td>Nike Free Flyknit 4.0</td>\n",
       "      <td>It\\xe2\\x80\\x99s hard to believe that the Nike ...</td>\n",
       "      <td>Nike Free Flyknit 4.0 General Info: The Free ...</td>\n",
       "      <td>[Is this shoe recommended for marathons? Pls s...</td>\n",
       "    </tr>\n",
       "    <tr>\n",
       "      <th>4</th>\n",
       "      <td>https://www.runningshoesguru.com/2018/08/new-b...</td>\n",
       "      <td>[b', html,  \\n, [ \\n, [\\n, &lt;link as=\"style\" hr...</td>\n",
       "      <td>2018-08-15T08:54:42-04:00</td>\n",
       "      <td>New Balance Fresh Foam Beacon</td>\n",
       "      <td>The New Balance Fresh Foam Beacon is a lightwe...</td>\n",
       "      <td>Light, Airy, Comfortable, Responsive, Flexibl...</td>\n",
       "      <td>[I have 60 miles on my Beacons and I can’t pra...</td>\n",
       "    </tr>\n",
       "    <tr>\n",
       "      <th>5</th>\n",
       "      <td>https://www.runningshoesguru.com/2012/09/scott...</td>\n",
       "      <td>[b', html,  \\n, [ \\n, [\\n, &lt;link as=\"style\" hr...</td>\n",
       "      <td>2012-09-28T18:38:48-04:00</td>\n",
       "      <td>Scott T2C</td>\n",
       "      <td>The Scott T2C provides an eminently enjoyable ...</td>\n",
       "      <td>Scott T2C General info The T2C is a lightweig...</td>\n",
       "      <td>[I love mine and wish I could still buy them s...</td>\n",
       "    </tr>\n",
       "    <tr>\n",
       "      <th>6</th>\n",
       "      <td>https://www.runningshoesguru.com/2016/06/sauco...</td>\n",
       "      <td>[b', html,  \\n, [ \\n, [\\n, &lt;link as=\"style\" hr...</td>\n",
       "      <td>2016-06-20T13:09:00-04:00</td>\n",
       "      <td>Saucony Omni 15</td>\n",
       "      <td>The Saucony Omni 15 is the latest and greatest...</td>\n",
       "      <td>The Omni is definitely a unique shoe. It has ...</td>\n",
       "      <td>[Hey! How would you compare these 15s to the 1...</td>\n",
       "    </tr>\n",
       "    <tr>\n",
       "      <th>...</th>\n",
       "      <td>...</td>\n",
       "      <td>...</td>\n",
       "      <td>...</td>\n",
       "      <td>...</td>\n",
       "      <td>...</td>\n",
       "      <td>...</td>\n",
       "      <td>...</td>\n",
       "    </tr>\n",
       "    <tr>\n",
       "      <th>1155</th>\n",
       "      <td>https://www.runningshoesguru.com/2017/08/sauco...</td>\n",
       "      <td>[b', html,  \\n, [ \\n, [\\n, &lt;link as=\"style\" hr...</td>\n",
       "      <td>2017-08-07T00:40:46-04:00</td>\n",
       "      <td>Saucony Omni 16</td>\n",
       "      <td>The Saucony Omni 16 is the perfect shoe for on...</td>\n",
       "      <td>The Omni is a reliable trainer with unique co...</td>\n",
       "      <td>[I don’t know much about running shoes, so I’v...</td>\n",
       "    </tr>\n",
       "    <tr>\n",
       "      <th>1158</th>\n",
       "      <td>https://www.runningshoesguru.com/2013/01/mizun...</td>\n",
       "      <td>[b', html,  \\n, [ \\n, [\\n, &lt;link as=\"style\" hr...</td>\n",
       "      <td>2013-01-26T21:06:46-05:00</td>\n",
       "      <td>Mizuno Wave Evo Cursoris</td>\n",
       "      <td>An excellent foray into the minimalist market ...</td>\n",
       "      <td>Mizuno Wave Evo Cursoris Initial Impressions ...</td>\n",
       "      <td>[In my opinion this is a fantastic shoe with a...</td>\n",
       "    </tr>\n",
       "    <tr>\n",
       "      <th>1160</th>\n",
       "      <td>https://www.runningshoesguru.com/2013/12/new-b...</td>\n",
       "      <td>[b', html,  \\n, [ \\n, [\\n, &lt;link as=\"style\" hr...</td>\n",
       "      <td>2013-12-01T18:52:00-05:00</td>\n",
       "      <td>New Balance RC 1400v2</td>\n",
       "      <td>The New Balance 1400v2 is a decent light-weigh...</td>\n",
       "      <td>New Balance RC 1400v2 General Information The...</td>\n",
       "      <td>[If you go half size up (like most runners do ...</td>\n",
       "    </tr>\n",
       "    <tr>\n",
       "      <th>1161</th>\n",
       "      <td>https://www.runningshoesguru.com/2020/07/reebo...</td>\n",
       "      <td>[b', html,  \\n, [ \\n, [\\n, &lt;link as=\"style\" hr...</td>\n",
       "      <td>2020-07-29T01:55:04-04:00</td>\n",
       "      <td>Reebok Forever Floatride Energy 2</td>\n",
       "      <td>The Reebok Forever Floatride Energy 2 is a lig...</td>\n",
       "      <td>Reebok Forever Floatride Energy 2 Intro Reebo...</td>\n",
       "      <td>[No way should these be a 6/10. For the price ...</td>\n",
       "    </tr>\n",
       "    <tr>\n",
       "      <th>1162</th>\n",
       "      <td>https://www.runningshoesguru.com/2017/06/nike-...</td>\n",
       "      <td>[b', html,  \\n, [ \\n, [\\n, &lt;link as=\"style\" hr...</td>\n",
       "      <td>2017-11-23T15:39:42-05:00</td>\n",
       "      <td>Nike Air Zoom Pegasus 34</td>\n",
       "      <td>The Nike Air Zoom Pegasus 34s are the tried an...</td>\n",
       "      <td>The Nike Air Zoom Pegasus 34 is a jack of all...</td>\n",
       "      <td>[How do these feel in comparison to the Pegasu...</td>\n",
       "    </tr>\n",
       "  </tbody>\n",
       "</table>\n",
       "<p>842 rows × 7 columns</p>\n",
       "</div>"
      ],
      "text/plain": [
       "                                                   link  \\\n",
       "0     https://www.runningshoesguru.com/2017/09/hoka-...   \n",
       "1     https://www.runningshoesguru.com/2015/08/nike-...   \n",
       "4     https://www.runningshoesguru.com/2018/08/new-b...   \n",
       "5     https://www.runningshoesguru.com/2012/09/scott...   \n",
       "6     https://www.runningshoesguru.com/2016/06/sauco...   \n",
       "...                                                 ...   \n",
       "1155  https://www.runningshoesguru.com/2017/08/sauco...   \n",
       "1158  https://www.runningshoesguru.com/2013/01/mizun...   \n",
       "1160  https://www.runningshoesguru.com/2013/12/new-b...   \n",
       "1161  https://www.runningshoesguru.com/2020/07/reebo...   \n",
       "1162  https://www.runningshoesguru.com/2017/06/nike-...   \n",
       "\n",
       "                                                   page  \\\n",
       "0     [b', html,  \\n, [ \\n, [\\n, <link as=\"style\" hr...   \n",
       "1     [b', html,  \\n, [ \\n, [\\n, <link as=\"style\" hr...   \n",
       "4     [b', html,  \\n, [ \\n, [\\n, <link as=\"style\" hr...   \n",
       "5     [b', html,  \\n, [ \\n, [\\n, <link as=\"style\" hr...   \n",
       "6     [b', html,  \\n, [ \\n, [\\n, <link as=\"style\" hr...   \n",
       "...                                                 ...   \n",
       "1155  [b', html,  \\n, [ \\n, [\\n, <link as=\"style\" hr...   \n",
       "1158  [b', html,  \\n, [ \\n, [\\n, <link as=\"style\" hr...   \n",
       "1160  [b', html,  \\n, [ \\n, [\\n, <link as=\"style\" hr...   \n",
       "1161  [b', html,  \\n, [ \\n, [\\n, <link as=\"style\" hr...   \n",
       "1162  [b', html,  \\n, [ \\n, [\\n, <link as=\"style\" hr...   \n",
       "\n",
       "                           date                           headline  \\\n",
       "0     2017-09-28T09:49:35-04:00         Hoka One One Stinson ATR 4   \n",
       "1     2017-11-25T13:13:48-05:00              Nike Free Flyknit 4.0   \n",
       "4     2018-08-15T08:54:42-04:00      New Balance Fresh Foam Beacon   \n",
       "5     2012-09-28T18:38:48-04:00                          Scott T2C   \n",
       "6     2016-06-20T13:09:00-04:00                    Saucony Omni 15   \n",
       "...                         ...                                ...   \n",
       "1155  2017-08-07T00:40:46-04:00                    Saucony Omni 16   \n",
       "1158  2013-01-26T21:06:46-05:00           Mizuno Wave Evo Cursoris   \n",
       "1160  2013-12-01T18:52:00-05:00              New Balance RC 1400v2   \n",
       "1161  2020-07-29T01:55:04-04:00  Reebok Forever Floatride Energy 2   \n",
       "1162  2017-11-23T15:39:42-05:00           Nike Air Zoom Pegasus 34   \n",
       "\n",
       "                                            description  \\\n",
       "0     The Stinson ATR 4 is built for long days on th...   \n",
       "1     It\\xe2\\x80\\x99s hard to believe that the Nike ...   \n",
       "4     The New Balance Fresh Foam Beacon is a lightwe...   \n",
       "5     The Scott T2C provides an eminently enjoyable ...   \n",
       "6     The Saucony Omni 15 is the latest and greatest...   \n",
       "...                                                 ...   \n",
       "1155  The Saucony Omni 16 is the perfect shoe for on...   \n",
       "1158  An excellent foray into the minimalist market ...   \n",
       "1160  The New Balance 1400v2 is a decent light-weigh...   \n",
       "1161  The Reebok Forever Floatride Energy 2 is a lig...   \n",
       "1162  The Nike Air Zoom Pegasus 34s are the tried an...   \n",
       "\n",
       "                                            review_body  \\\n",
       "0      The Stinson ATR 4 is the newest version of th...   \n",
       "1      Nike Free Flyknit 4.0 General Info: The Free ...   \n",
       "4      Light, Airy, Comfortable, Responsive, Flexibl...   \n",
       "5      Scott T2C General info The T2C is a lightweig...   \n",
       "6      The Omni is definitely a unique shoe. It has ...   \n",
       "...                                                 ...   \n",
       "1155   The Omni is a reliable trainer with unique co...   \n",
       "1158   Mizuno Wave Evo Cursoris Initial Impressions ...   \n",
       "1160   New Balance RC 1400v2 General Information The...   \n",
       "1161   Reebok Forever Floatride Energy 2 Intro Reebo...   \n",
       "1162   The Nike Air Zoom Pegasus 34 is a jack of all...   \n",
       "\n",
       "                                               comments  \n",
       "0     [The bondi 5’s are like boards now-so stiff an...  \n",
       "1     [Is this shoe recommended for marathons? Pls s...  \n",
       "4     [I have 60 miles on my Beacons and I can’t pra...  \n",
       "5     [I love mine and wish I could still buy them s...  \n",
       "6     [Hey! How would you compare these 15s to the 1...  \n",
       "...                                                 ...  \n",
       "1155  [I don’t know much about running shoes, so I’v...  \n",
       "1158  [In my opinion this is a fantastic shoe with a...  \n",
       "1160  [If you go half size up (like most runners do ...  \n",
       "1161  [No way should these be a 6/10. For the price ...  \n",
       "1162  [How do these feel in comparison to the Pegasu...  \n",
       "\n",
       "[842 rows x 7 columns]"
      ]
     },
     "execution_count": 40,
     "metadata": {},
     "output_type": "execute_result"
    }
   ],
   "source": [
    "review_data"
   ]
  },
  {
   "cell_type": "code",
   "execution_count": 41,
   "id": "dc31a1a1-9672-448e-bfbc-1085dfc57341",
   "metadata": {},
   "outputs": [],
   "source": [
    "review_data.reset_index(inplace=True,drop=True)"
   ]
  },
  {
   "cell_type": "code",
   "execution_count": 42,
   "id": "e43a19af",
   "metadata": {},
   "outputs": [
    {
     "data": {
      "text/html": [
       "<div>\n",
       "<style scoped>\n",
       "    .dataframe tbody tr th:only-of-type {\n",
       "        vertical-align: middle;\n",
       "    }\n",
       "\n",
       "    .dataframe tbody tr th {\n",
       "        vertical-align: top;\n",
       "    }\n",
       "\n",
       "    .dataframe thead th {\n",
       "        text-align: right;\n",
       "    }\n",
       "</style>\n",
       "<table border=\"1\" class=\"dataframe\">\n",
       "  <thead>\n",
       "    <tr style=\"text-align: right;\">\n",
       "      <th></th>\n",
       "      <th>link</th>\n",
       "      <th>page</th>\n",
       "      <th>date</th>\n",
       "      <th>headline</th>\n",
       "      <th>description</th>\n",
       "      <th>review_body</th>\n",
       "      <th>comments</th>\n",
       "    </tr>\n",
       "  </thead>\n",
       "  <tbody>\n",
       "    <tr>\n",
       "      <th>0</th>\n",
       "      <td>https://www.runningshoesguru.com/2017/09/hoka-...</td>\n",
       "      <td>[b', html,  \\n, [ \\n, [\\n, &lt;link as=\"style\" hr...</td>\n",
       "      <td>2017-09-28T09:49:35-04:00</td>\n",
       "      <td>Hoka One One Stinson ATR 4</td>\n",
       "      <td>The Stinson ATR 4 is built for long days on th...</td>\n",
       "      <td>The Stinson ATR 4 is the newest version of th...</td>\n",
       "      <td>[The bondi 5’s are like boards now-so stiff an...</td>\n",
       "    </tr>\n",
       "    <tr>\n",
       "      <th>1</th>\n",
       "      <td>https://www.runningshoesguru.com/2015/08/nike-...</td>\n",
       "      <td>[b', html,  \\n, [ \\n, [\\n, &lt;link as=\"style\" hr...</td>\n",
       "      <td>2017-11-25T13:13:48-05:00</td>\n",
       "      <td>Nike Free Flyknit 4.0</td>\n",
       "      <td>It\\xe2\\x80\\x99s hard to believe that the Nike ...</td>\n",
       "      <td>Nike Free Flyknit 4.0 General Info: The Free ...</td>\n",
       "      <td>[Is this shoe recommended for marathons? Pls s...</td>\n",
       "    </tr>\n",
       "    <tr>\n",
       "      <th>2</th>\n",
       "      <td>https://www.runningshoesguru.com/2018/08/new-b...</td>\n",
       "      <td>[b', html,  \\n, [ \\n, [\\n, &lt;link as=\"style\" hr...</td>\n",
       "      <td>2018-08-15T08:54:42-04:00</td>\n",
       "      <td>New Balance Fresh Foam Beacon</td>\n",
       "      <td>The New Balance Fresh Foam Beacon is a lightwe...</td>\n",
       "      <td>Light, Airy, Comfortable, Responsive, Flexibl...</td>\n",
       "      <td>[I have 60 miles on my Beacons and I can’t pra...</td>\n",
       "    </tr>\n",
       "    <tr>\n",
       "      <th>3</th>\n",
       "      <td>https://www.runningshoesguru.com/2012/09/scott...</td>\n",
       "      <td>[b', html,  \\n, [ \\n, [\\n, &lt;link as=\"style\" hr...</td>\n",
       "      <td>2012-09-28T18:38:48-04:00</td>\n",
       "      <td>Scott T2C</td>\n",
       "      <td>The Scott T2C provides an eminently enjoyable ...</td>\n",
       "      <td>Scott T2C General info The T2C is a lightweig...</td>\n",
       "      <td>[I love mine and wish I could still buy them s...</td>\n",
       "    </tr>\n",
       "    <tr>\n",
       "      <th>4</th>\n",
       "      <td>https://www.runningshoesguru.com/2016/06/sauco...</td>\n",
       "      <td>[b', html,  \\n, [ \\n, [\\n, &lt;link as=\"style\" hr...</td>\n",
       "      <td>2016-06-20T13:09:00-04:00</td>\n",
       "      <td>Saucony Omni 15</td>\n",
       "      <td>The Saucony Omni 15 is the latest and greatest...</td>\n",
       "      <td>The Omni is definitely a unique shoe. It has ...</td>\n",
       "      <td>[Hey! How would you compare these 15s to the 1...</td>\n",
       "    </tr>\n",
       "    <tr>\n",
       "      <th>...</th>\n",
       "      <td>...</td>\n",
       "      <td>...</td>\n",
       "      <td>...</td>\n",
       "      <td>...</td>\n",
       "      <td>...</td>\n",
       "      <td>...</td>\n",
       "      <td>...</td>\n",
       "    </tr>\n",
       "    <tr>\n",
       "      <th>837</th>\n",
       "      <td>https://www.runningshoesguru.com/2017/08/sauco...</td>\n",
       "      <td>[b', html,  \\n, [ \\n, [\\n, &lt;link as=\"style\" hr...</td>\n",
       "      <td>2017-08-07T00:40:46-04:00</td>\n",
       "      <td>Saucony Omni 16</td>\n",
       "      <td>The Saucony Omni 16 is the perfect shoe for on...</td>\n",
       "      <td>The Omni is a reliable trainer with unique co...</td>\n",
       "      <td>[I don’t know much about running shoes, so I’v...</td>\n",
       "    </tr>\n",
       "    <tr>\n",
       "      <th>838</th>\n",
       "      <td>https://www.runningshoesguru.com/2013/01/mizun...</td>\n",
       "      <td>[b', html,  \\n, [ \\n, [\\n, &lt;link as=\"style\" hr...</td>\n",
       "      <td>2013-01-26T21:06:46-05:00</td>\n",
       "      <td>Mizuno Wave Evo Cursoris</td>\n",
       "      <td>An excellent foray into the minimalist market ...</td>\n",
       "      <td>Mizuno Wave Evo Cursoris Initial Impressions ...</td>\n",
       "      <td>[In my opinion this is a fantastic shoe with a...</td>\n",
       "    </tr>\n",
       "    <tr>\n",
       "      <th>839</th>\n",
       "      <td>https://www.runningshoesguru.com/2013/12/new-b...</td>\n",
       "      <td>[b', html,  \\n, [ \\n, [\\n, &lt;link as=\"style\" hr...</td>\n",
       "      <td>2013-12-01T18:52:00-05:00</td>\n",
       "      <td>New Balance RC 1400v2</td>\n",
       "      <td>The New Balance 1400v2 is a decent light-weigh...</td>\n",
       "      <td>New Balance RC 1400v2 General Information The...</td>\n",
       "      <td>[If you go half size up (like most runners do ...</td>\n",
       "    </tr>\n",
       "    <tr>\n",
       "      <th>840</th>\n",
       "      <td>https://www.runningshoesguru.com/2020/07/reebo...</td>\n",
       "      <td>[b', html,  \\n, [ \\n, [\\n, &lt;link as=\"style\" hr...</td>\n",
       "      <td>2020-07-29T01:55:04-04:00</td>\n",
       "      <td>Reebok Forever Floatride Energy 2</td>\n",
       "      <td>The Reebok Forever Floatride Energy 2 is a lig...</td>\n",
       "      <td>Reebok Forever Floatride Energy 2 Intro Reebo...</td>\n",
       "      <td>[No way should these be a 6/10. For the price ...</td>\n",
       "    </tr>\n",
       "    <tr>\n",
       "      <th>841</th>\n",
       "      <td>https://www.runningshoesguru.com/2017/06/nike-...</td>\n",
       "      <td>[b', html,  \\n, [ \\n, [\\n, &lt;link as=\"style\" hr...</td>\n",
       "      <td>2017-11-23T15:39:42-05:00</td>\n",
       "      <td>Nike Air Zoom Pegasus 34</td>\n",
       "      <td>The Nike Air Zoom Pegasus 34s are the tried an...</td>\n",
       "      <td>The Nike Air Zoom Pegasus 34 is a jack of all...</td>\n",
       "      <td>[How do these feel in comparison to the Pegasu...</td>\n",
       "    </tr>\n",
       "  </tbody>\n",
       "</table>\n",
       "<p>842 rows × 7 columns</p>\n",
       "</div>"
      ],
      "text/plain": [
       "                                                  link  \\\n",
       "0    https://www.runningshoesguru.com/2017/09/hoka-...   \n",
       "1    https://www.runningshoesguru.com/2015/08/nike-...   \n",
       "2    https://www.runningshoesguru.com/2018/08/new-b...   \n",
       "3    https://www.runningshoesguru.com/2012/09/scott...   \n",
       "4    https://www.runningshoesguru.com/2016/06/sauco...   \n",
       "..                                                 ...   \n",
       "837  https://www.runningshoesguru.com/2017/08/sauco...   \n",
       "838  https://www.runningshoesguru.com/2013/01/mizun...   \n",
       "839  https://www.runningshoesguru.com/2013/12/new-b...   \n",
       "840  https://www.runningshoesguru.com/2020/07/reebo...   \n",
       "841  https://www.runningshoesguru.com/2017/06/nike-...   \n",
       "\n",
       "                                                  page  \\\n",
       "0    [b', html,  \\n, [ \\n, [\\n, <link as=\"style\" hr...   \n",
       "1    [b', html,  \\n, [ \\n, [\\n, <link as=\"style\" hr...   \n",
       "2    [b', html,  \\n, [ \\n, [\\n, <link as=\"style\" hr...   \n",
       "3    [b', html,  \\n, [ \\n, [\\n, <link as=\"style\" hr...   \n",
       "4    [b', html,  \\n, [ \\n, [\\n, <link as=\"style\" hr...   \n",
       "..                                                 ...   \n",
       "837  [b', html,  \\n, [ \\n, [\\n, <link as=\"style\" hr...   \n",
       "838  [b', html,  \\n, [ \\n, [\\n, <link as=\"style\" hr...   \n",
       "839  [b', html,  \\n, [ \\n, [\\n, <link as=\"style\" hr...   \n",
       "840  [b', html,  \\n, [ \\n, [\\n, <link as=\"style\" hr...   \n",
       "841  [b', html,  \\n, [ \\n, [\\n, <link as=\"style\" hr...   \n",
       "\n",
       "                          date                           headline  \\\n",
       "0    2017-09-28T09:49:35-04:00         Hoka One One Stinson ATR 4   \n",
       "1    2017-11-25T13:13:48-05:00              Nike Free Flyknit 4.0   \n",
       "2    2018-08-15T08:54:42-04:00      New Balance Fresh Foam Beacon   \n",
       "3    2012-09-28T18:38:48-04:00                          Scott T2C   \n",
       "4    2016-06-20T13:09:00-04:00                    Saucony Omni 15   \n",
       "..                         ...                                ...   \n",
       "837  2017-08-07T00:40:46-04:00                    Saucony Omni 16   \n",
       "838  2013-01-26T21:06:46-05:00           Mizuno Wave Evo Cursoris   \n",
       "839  2013-12-01T18:52:00-05:00              New Balance RC 1400v2   \n",
       "840  2020-07-29T01:55:04-04:00  Reebok Forever Floatride Energy 2   \n",
       "841  2017-11-23T15:39:42-05:00           Nike Air Zoom Pegasus 34   \n",
       "\n",
       "                                           description  \\\n",
       "0    The Stinson ATR 4 is built for long days on th...   \n",
       "1    It\\xe2\\x80\\x99s hard to believe that the Nike ...   \n",
       "2    The New Balance Fresh Foam Beacon is a lightwe...   \n",
       "3    The Scott T2C provides an eminently enjoyable ...   \n",
       "4    The Saucony Omni 15 is the latest and greatest...   \n",
       "..                                                 ...   \n",
       "837  The Saucony Omni 16 is the perfect shoe for on...   \n",
       "838  An excellent foray into the minimalist market ...   \n",
       "839  The New Balance 1400v2 is a decent light-weigh...   \n",
       "840  The Reebok Forever Floatride Energy 2 is a lig...   \n",
       "841  The Nike Air Zoom Pegasus 34s are the tried an...   \n",
       "\n",
       "                                           review_body  \\\n",
       "0     The Stinson ATR 4 is the newest version of th...   \n",
       "1     Nike Free Flyknit 4.0 General Info: The Free ...   \n",
       "2     Light, Airy, Comfortable, Responsive, Flexibl...   \n",
       "3     Scott T2C General info The T2C is a lightweig...   \n",
       "4     The Omni is definitely a unique shoe. It has ...   \n",
       "..                                                 ...   \n",
       "837   The Omni is a reliable trainer with unique co...   \n",
       "838   Mizuno Wave Evo Cursoris Initial Impressions ...   \n",
       "839   New Balance RC 1400v2 General Information The...   \n",
       "840   Reebok Forever Floatride Energy 2 Intro Reebo...   \n",
       "841   The Nike Air Zoom Pegasus 34 is a jack of all...   \n",
       "\n",
       "                                              comments  \n",
       "0    [The bondi 5’s are like boards now-so stiff an...  \n",
       "1    [Is this shoe recommended for marathons? Pls s...  \n",
       "2    [I have 60 miles on my Beacons and I can’t pra...  \n",
       "3    [I love mine and wish I could still buy them s...  \n",
       "4    [Hey! How would you compare these 15s to the 1...  \n",
       "..                                                 ...  \n",
       "837  [I don’t know much about running shoes, so I’v...  \n",
       "838  [In my opinion this is a fantastic shoe with a...  \n",
       "839  [If you go half size up (like most runners do ...  \n",
       "840  [No way should these be a 6/10. For the price ...  \n",
       "841  [How do these feel in comparison to the Pegasu...  \n",
       "\n",
       "[842 rows x 7 columns]"
      ]
     },
     "execution_count": 42,
     "metadata": {},
     "output_type": "execute_result"
    }
   ],
   "source": [
    "review_data"
   ]
  },
  {
   "cell_type": "code",
   "execution_count": 43,
   "id": "bd2c7fd5-f4d9-48cc-920d-1323394dc584",
   "metadata": {},
   "outputs": [],
   "source": [
    "review_data.to_pickle('Processed_dataset.pkl')"
   ]
  },
  {
   "cell_type": "code",
   "execution_count": null,
   "id": "c8e1f1ef-bd65-4bc9-819c-1739fdfb9885",
   "metadata": {},
   "outputs": [],
   "source": []
  }
 ],
 "metadata": {
  "kernelspec": {
   "display_name": "Python 3 (ipykernel)",
   "language": "python",
   "name": "python3"
  },
  "language_info": {
   "codemirror_mode": {
    "name": "ipython",
    "version": 3
   },
   "file_extension": ".py",
   "mimetype": "text/x-python",
   "name": "python",
   "nbconvert_exporter": "python",
   "pygments_lexer": "ipython3",
   "version": "3.11.4"
  }
 },
 "nbformat": 4,
 "nbformat_minor": 5
}
